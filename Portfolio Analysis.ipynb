{
 "cells": [
  {
   "cell_type": "markdown",
   "id": "81520c7b-d035-46cc-8bf9-b663cbc86a33",
   "metadata": {},
   "source": [
    "#### Import OHLC Data Between January 1, 2020 and February 26, 2024."
   ]
  },
  {
   "cell_type": "code",
   "execution_count": 1,
   "id": "3ddd6089-23f3-4951-93b7-667f0b2f9017",
   "metadata": {},
   "outputs": [],
   "source": [
    "import yfinance as yf  # Fetches financial data from Yahoo Finance\n",
    "import pandas as pd \n",
    "import numpy as np    "
   ]
  },
  {
   "cell_type": "code",
   "execution_count": 2,
   "id": "9d928b8d-c072-4e71-a5ef-42c61b9d83ed",
   "metadata": {},
   "outputs": [
    {
     "name": "stderr",
     "output_type": "stream",
     "text": [
      "[*********************100%%**********************]  5 of 5 completed\n"
     ]
    },
    {
     "data": {
      "text/html": [
       "<div>\n",
       "<style scoped>\n",
       "    .dataframe tbody tr th:only-of-type {\n",
       "        vertical-align: middle;\n",
       "    }\n",
       "\n",
       "    .dataframe tbody tr th {\n",
       "        vertical-align: top;\n",
       "    }\n",
       "\n",
       "    .dataframe thead th {\n",
       "        text-align: right;\n",
       "    }\n",
       "</style>\n",
       "<table border=\"1\" class=\"dataframe\">\n",
       "  <thead>\n",
       "    <tr style=\"text-align: right;\">\n",
       "      <th>Ticker</th>\n",
       "      <th>BAC</th>\n",
       "      <th>C</th>\n",
       "      <th>GS</th>\n",
       "      <th>JPM</th>\n",
       "      <th>WFC</th>\n",
       "    </tr>\n",
       "    <tr>\n",
       "      <th>Date</th>\n",
       "      <th></th>\n",
       "      <th></th>\n",
       "      <th></th>\n",
       "      <th></th>\n",
       "      <th></th>\n",
       "    </tr>\n",
       "  </thead>\n",
       "  <tbody>\n",
       "    <tr>\n",
       "      <th>2020-01-02</th>\n",
       "      <td>32.048054</td>\n",
       "      <td>68.963692</td>\n",
       "      <td>210.857285</td>\n",
       "      <td>124.254204</td>\n",
       "      <td>47.959927</td>\n",
       "    </tr>\n",
       "    <tr>\n",
       "      <th>2020-01-03</th>\n",
       "      <td>31.382650</td>\n",
       "      <td>67.664711</td>\n",
       "      <td>208.391647</td>\n",
       "      <td>122.614464</td>\n",
       "      <td>47.665474</td>\n",
       "    </tr>\n",
       "    <tr>\n",
       "      <th>2020-01-06</th>\n",
       "      <td>31.337673</td>\n",
       "      <td>67.452469</td>\n",
       "      <td>210.524338</td>\n",
       "      <td>122.516998</td>\n",
       "      <td>47.379951</td>\n",
       "    </tr>\n",
       "    <tr>\n",
       "      <th>2020-01-07</th>\n",
       "      <td>31.130859</td>\n",
       "      <td>66.866684</td>\n",
       "      <td>211.910172</td>\n",
       "      <td>120.434128</td>\n",
       "      <td>46.987343</td>\n",
       "    </tr>\n",
       "    <tr>\n",
       "      <th>2020-01-08</th>\n",
       "      <td>31.445580</td>\n",
       "      <td>67.376068</td>\n",
       "      <td>213.952896</td>\n",
       "      <td>121.373619</td>\n",
       "      <td>47.130104</td>\n",
       "    </tr>\n",
       "    <tr>\n",
       "      <th>...</th>\n",
       "      <td>...</td>\n",
       "      <td>...</td>\n",
       "      <td>...</td>\n",
       "      <td>...</td>\n",
       "      <td>...</td>\n",
       "    </tr>\n",
       "    <tr>\n",
       "      <th>2024-02-16</th>\n",
       "      <td>33.851540</td>\n",
       "      <td>54.849998</td>\n",
       "      <td>381.734833</td>\n",
       "      <td>179.029999</td>\n",
       "      <td>51.910000</td>\n",
       "    </tr>\n",
       "    <tr>\n",
       "      <th>2024-02-20</th>\n",
       "      <td>33.722446</td>\n",
       "      <td>55.419998</td>\n",
       "      <td>381.814240</td>\n",
       "      <td>179.729996</td>\n",
       "      <td>51.770000</td>\n",
       "    </tr>\n",
       "    <tr>\n",
       "      <th>2024-02-21</th>\n",
       "      <td>33.464268</td>\n",
       "      <td>55.330002</td>\n",
       "      <td>385.537842</td>\n",
       "      <td>180.899994</td>\n",
       "      <td>52.660000</td>\n",
       "    </tr>\n",
       "    <tr>\n",
       "      <th>2024-02-22</th>\n",
       "      <td>33.374897</td>\n",
       "      <td>55.900002</td>\n",
       "      <td>387.722382</td>\n",
       "      <td>183.070007</td>\n",
       "      <td>53.369999</td>\n",
       "    </tr>\n",
       "    <tr>\n",
       "      <th>2024-02-23</th>\n",
       "      <td>33.682728</td>\n",
       "      <td>55.930000</td>\n",
       "      <td>388.298279</td>\n",
       "      <td>183.990005</td>\n",
       "      <td>53.860001</td>\n",
       "    </tr>\n",
       "  </tbody>\n",
       "</table>\n",
       "<p>1043 rows × 5 columns</p>\n",
       "</div>"
      ],
      "text/plain": [
       "Ticker            BAC          C          GS         JPM        WFC\n",
       "Date                                                               \n",
       "2020-01-02  32.048054  68.963692  210.857285  124.254204  47.959927\n",
       "2020-01-03  31.382650  67.664711  208.391647  122.614464  47.665474\n",
       "2020-01-06  31.337673  67.452469  210.524338  122.516998  47.379951\n",
       "2020-01-07  31.130859  66.866684  211.910172  120.434128  46.987343\n",
       "2020-01-08  31.445580  67.376068  213.952896  121.373619  47.130104\n",
       "...               ...        ...         ...         ...        ...\n",
       "2024-02-16  33.851540  54.849998  381.734833  179.029999  51.910000\n",
       "2024-02-20  33.722446  55.419998  381.814240  179.729996  51.770000\n",
       "2024-02-21  33.464268  55.330002  385.537842  180.899994  52.660000\n",
       "2024-02-22  33.374897  55.900002  387.722382  183.070007  53.369999\n",
       "2024-02-23  33.682728  55.930000  388.298279  183.990005  53.860001\n",
       "\n",
       "[1043 rows x 5 columns]"
      ]
     },
     "execution_count": 2,
     "metadata": {},
     "output_type": "execute_result"
    }
   ],
   "source": [
    "# The following tickers point to:\n",
    "# BAC: Bank of America Corporation\n",
    "# C: Citigroup Inc.\n",
    "# GS: The Goldman Sachs Group, Inc.\n",
    "# JPM: JPMorgan Chase & Co.\n",
    "# WFC: Wells Fargo & Co.\n",
    "\n",
    "df = yf.download(['WFC', 'JPM', 'BAC', 'C', 'GS'], start='2020-01-01', end='2024-02-26')['Adj Close']\n",
    "\n",
    "df"
   ]
  },
  {
   "cell_type": "markdown",
   "id": "76b705a7-ca48-416f-8316-9614b03d9fbf",
   "metadata": {},
   "source": [
    "## 1) Exploratory Data Analysis"
   ]
  },
  {
   "cell_type": "markdown",
   "id": "2105699e-41b4-4841-a1d6-fb6229a8c5f2",
   "metadata": {},
   "source": [
    "#### Plot historical data to gain insight on stock performance."
   ]
  },
  {
   "cell_type": "code",
   "execution_count": 3,
   "id": "6fe7ea5b-03d1-4343-8864-14c3efbcfab4",
   "metadata": {},
   "outputs": [
    {
     "data": {
      "text/plain": [
       "<Axes: xlabel='Date'>"
      ]
     },
     "execution_count": 3,
     "metadata": {},
     "output_type": "execute_result"
    },
    {
     "data": {
      "image/png": "[encoded data removed]",
      "text/plain": [
       "<Figure size 640x480 with 1 Axes>"
      ]
     },
     "metadata": {},
     "output_type": "display_data"
    }
   ],
   "source": [
    "df.plot()"
   ]
  },
  {
   "cell_type": "markdown",
   "id": "cb470d56-f313-4f1d-90aa-898eb3579ef6",
   "metadata": {},
   "source": [
    "#### It is clear that Goldman Sachs had the highest adjusted close prices between January 2020 and February 2024. They outperformed the other four stocks. In second place is JPMorgan.\n",
    "#### Adjusted close prices of Citigroup, Wells Fargo and Bank of America are more closely aligned with each other and are among the lowest.\n",
    "#### The highest fluctuation in close prices occurs with Goldman Sachs, which allows us to predict there is more risk associated with investing in them."
   ]
  },
  {
   "cell_type": "markdown",
   "id": "ebfc22c5-83d1-4d13-b91e-662904a7efd8",
   "metadata": {},
   "source": [
    "#### Let's look at the mean and standard deviation for each stock."
   ]
  },
  {
   "cell_type": "code",
   "execution_count": 4,
   "id": "7767be1e-0835-4a8d-b701-45420ebfcb65",
   "metadata": {},
   "outputs": [
    {
     "data": {
      "text/plain": [
       "Ticker\n",
       "BAC     31.614608\n",
       "C       50.419084\n",
       "GS     295.872481\n",
       "JPM    127.583312\n",
       "WFC     38.862369\n",
       "dtype: float64"
      ]
     },
     "execution_count": 4,
     "metadata": {},
     "output_type": "execute_result"
    }
   ],
   "source": [
    "df.mean()"
   ]
  },
  {
   "cell_type": "markdown",
   "id": "645f6aec-950c-41ce-8737-260483bb8159",
   "metadata": {},
   "source": [
    "#### This confirms what we see in our plot- GS consistently had higher stock prices throughout this time period.\n",
    "#### The stock with the lowest close prices on average is Bank of America."
   ]
  },
  {
   "cell_type": "code",
   "execution_count": 5,
   "id": "4ff78413-e136-4844-9701-284c9cb9ee73",
   "metadata": {},
   "outputs": [
    {
     "data": {
      "text/plain": [
       "Ticker\n",
       "BAC     6.501090\n",
       "C       9.360409\n",
       "GS     67.847643\n",
       "JPM    24.069129\n",
       "WFC     8.562331\n",
       "dtype: float64"
      ]
     },
     "execution_count": 5,
     "metadata": {},
     "output_type": "execute_result"
    }
   ],
   "source": [
    "df.std()"
   ]
  },
  {
   "cell_type": "markdown",
   "id": "86e80253-c4b0-4242-99c6-784052140bf1",
   "metadata": {},
   "source": [
    "#### GS having a high standard deviation confirms our suspicion that there would be higher risk when investing in them compared to the other stocks.\n",
    "#### BAC has little fluctuation in plot, and therefore, a lower risk level for investing."
   ]
  },
  {
   "cell_type": "markdown",
   "id": "3f901c9b-e701-417a-a786-9f623042c23c",
   "metadata": {},
   "source": [
    "#### Now, let's calculate returns and cumulative returns."
   ]
  },
  {
   "cell_type": "code",
   "execution_count": 6,
   "id": "e3d787cb-9d11-4d1d-8843-f05e1b07adf4",
   "metadata": {},
   "outputs": [
    {
     "data": {
      "text/html": [
       "<div>\n",
       "<style scoped>\n",
       "    .dataframe tbody tr th:only-of-type {\n",
       "        vertical-align: middle;\n",
       "    }\n",
       "\n",
       "    .dataframe tbody tr th {\n",
       "        vertical-align: top;\n",
       "    }\n",
       "\n",
       "    .dataframe thead th {\n",
       "        text-align: right;\n",
       "    }\n",
       "</style>\n",
       "<table border=\"1\" class=\"dataframe\">\n",
       "  <thead>\n",
       "    <tr style=\"text-align: right;\">\n",
       "      <th>Ticker</th>\n",
       "      <th>BAC</th>\n",
       "      <th>C</th>\n",
       "      <th>GS</th>\n",
       "      <th>JPM</th>\n",
       "      <th>WFC</th>\n",
       "    </tr>\n",
       "    <tr>\n",
       "      <th>Date</th>\n",
       "      <th></th>\n",
       "      <th></th>\n",
       "      <th></th>\n",
       "      <th></th>\n",
       "      <th></th>\n",
       "    </tr>\n",
       "  </thead>\n",
       "  <tbody>\n",
       "    <tr>\n",
       "      <th>2020-01-03</th>\n",
       "      <td>-0.020763</td>\n",
       "      <td>-0.018836</td>\n",
       "      <td>-0.011693</td>\n",
       "      <td>-0.013197</td>\n",
       "      <td>-0.006140</td>\n",
       "    </tr>\n",
       "    <tr>\n",
       "      <th>2020-01-06</th>\n",
       "      <td>-0.001433</td>\n",
       "      <td>-0.003137</td>\n",
       "      <td>0.010234</td>\n",
       "      <td>-0.000795</td>\n",
       "      <td>-0.005990</td>\n",
       "    </tr>\n",
       "    <tr>\n",
       "      <th>2020-01-07</th>\n",
       "      <td>-0.006600</td>\n",
       "      <td>-0.008684</td>\n",
       "      <td>0.006583</td>\n",
       "      <td>-0.017001</td>\n",
       "      <td>-0.008286</td>\n",
       "    </tr>\n",
       "    <tr>\n",
       "      <th>2020-01-08</th>\n",
       "      <td>0.010110</td>\n",
       "      <td>0.007618</td>\n",
       "      <td>0.009640</td>\n",
       "      <td>0.007801</td>\n",
       "      <td>0.003038</td>\n",
       "    </tr>\n",
       "    <tr>\n",
       "      <th>2020-01-09</th>\n",
       "      <td>0.001716</td>\n",
       "      <td>0.009072</td>\n",
       "      <td>0.020356</td>\n",
       "      <td>0.003651</td>\n",
       "      <td>-0.001704</td>\n",
       "    </tr>\n",
       "    <tr>\n",
       "      <th>...</th>\n",
       "      <td>...</td>\n",
       "      <td>...</td>\n",
       "      <td>...</td>\n",
       "      <td>...</td>\n",
       "      <td>...</td>\n",
       "    </tr>\n",
       "    <tr>\n",
       "      <th>2024-02-16</th>\n",
       "      <td>0.000587</td>\n",
       "      <td>-0.006521</td>\n",
       "      <td>-0.002543</td>\n",
       "      <td>-0.004670</td>\n",
       "      <td>-0.002498</td>\n",
       "    </tr>\n",
       "    <tr>\n",
       "      <th>2024-02-20</th>\n",
       "      <td>-0.003814</td>\n",
       "      <td>0.010392</td>\n",
       "      <td>0.000208</td>\n",
       "      <td>0.003910</td>\n",
       "      <td>-0.002697</td>\n",
       "    </tr>\n",
       "    <tr>\n",
       "      <th>2024-02-21</th>\n",
       "      <td>-0.007656</td>\n",
       "      <td>-0.001624</td>\n",
       "      <td>0.009752</td>\n",
       "      <td>0.006510</td>\n",
       "      <td>0.017191</td>\n",
       "    </tr>\n",
       "    <tr>\n",
       "      <th>2024-02-22</th>\n",
       "      <td>-0.002671</td>\n",
       "      <td>0.010302</td>\n",
       "      <td>0.005666</td>\n",
       "      <td>0.011996</td>\n",
       "      <td>0.013483</td>\n",
       "    </tr>\n",
       "    <tr>\n",
       "      <th>2024-02-23</th>\n",
       "      <td>0.009223</td>\n",
       "      <td>0.000537</td>\n",
       "      <td>0.001485</td>\n",
       "      <td>0.005025</td>\n",
       "      <td>0.009181</td>\n",
       "    </tr>\n",
       "  </tbody>\n",
       "</table>\n",
       "<p>1042 rows × 5 columns</p>\n",
       "</div>"
      ],
      "text/plain": [
       "Ticker           BAC         C        GS       JPM       WFC\n",
       "Date                                                        \n",
       "2020-01-03 -0.020763 -0.018836 -0.011693 -0.013197 -0.006140\n",
       "2020-01-06 -0.001433 -0.003137  0.010234 -0.000795 -0.005990\n",
       "2020-01-07 -0.006600 -0.008684  0.006583 -0.017001 -0.008286\n",
       "2020-01-08  0.010110  0.007618  0.009640  0.007801  0.003038\n",
       "2020-01-09  0.001716  0.009072  0.020356  0.003651 -0.001704\n",
       "...              ...       ...       ...       ...       ...\n",
       "2024-02-16  0.000587 -0.006521 -0.002543 -0.004670 -0.002498\n",
       "2024-02-20 -0.003814  0.010392  0.000208  0.003910 -0.002697\n",
       "2024-02-21 -0.007656 -0.001624  0.009752  0.006510  0.017191\n",
       "2024-02-22 -0.002671  0.010302  0.005666  0.011996  0.013483\n",
       "2024-02-23  0.009223  0.000537  0.001485  0.005025  0.009181\n",
       "\n",
       "[1042 rows x 5 columns]"
      ]
     },
     "execution_count": 6,
     "metadata": {},
     "output_type": "execute_result"
    }
   ],
   "source": [
    "# Return\n",
    "\n",
    "return_df = df.pct_change()\n",
    "\n",
    "# Remove first row containing NaNs- cannot calculate return for 2020-01-02 if we do not have data from 2020-01-01.\n",
    "\n",
    "return_df.dropna(inplace=True)\n",
    "\n",
    "return_df"
   ]
  },
  {
   "cell_type": "code",
   "execution_count": 7,
   "id": "f203679c-46d9-4c8b-b8b4-2291f99782b6",
   "metadata": {},
   "outputs": [
    {
     "data": {
      "text/html": [
       "<div>\n",
       "<style scoped>\n",
       "    .dataframe tbody tr th:only-of-type {\n",
       "        vertical-align: middle;\n",
       "    }\n",
       "\n",
       "    .dataframe tbody tr th {\n",
       "        vertical-align: top;\n",
       "    }\n",
       "\n",
       "    .dataframe thead th {\n",
       "        text-align: right;\n",
       "    }\n",
       "</style>\n",
       "<table border=\"1\" class=\"dataframe\">\n",
       "  <thead>\n",
       "    <tr style=\"text-align: right;\">\n",
       "      <th>Ticker</th>\n",
       "      <th>BAC</th>\n",
       "      <th>C</th>\n",
       "      <th>GS</th>\n",
       "      <th>JPM</th>\n",
       "      <th>WFC</th>\n",
       "    </tr>\n",
       "    <tr>\n",
       "      <th>Date</th>\n",
       "      <th></th>\n",
       "      <th></th>\n",
       "      <th></th>\n",
       "      <th></th>\n",
       "      <th></th>\n",
       "    </tr>\n",
       "  </thead>\n",
       "  <tbody>\n",
       "    <tr>\n",
       "      <th>2020-01-03</th>\n",
       "      <td>-2.076268</td>\n",
       "      <td>-1.883572</td>\n",
       "      <td>-1.169339</td>\n",
       "      <td>-1.319666</td>\n",
       "      <td>-0.613956</td>\n",
       "    </tr>\n",
       "    <tr>\n",
       "      <th>2020-01-06</th>\n",
       "      <td>-2.216611</td>\n",
       "      <td>-2.191331</td>\n",
       "      <td>-0.157901</td>\n",
       "      <td>-1.398106</td>\n",
       "      <td>-1.209291</td>\n",
       "    </tr>\n",
       "    <tr>\n",
       "      <th>2020-01-07</th>\n",
       "      <td>-2.861935</td>\n",
       "      <td>-3.040742</td>\n",
       "      <td>0.499336</td>\n",
       "      <td>-3.074404</td>\n",
       "      <td>-2.027909</td>\n",
       "    </tr>\n",
       "    <tr>\n",
       "      <th>2020-01-08</th>\n",
       "      <td>-1.879909</td>\n",
       "      <td>-2.302115</td>\n",
       "      <td>1.468107</td>\n",
       "      <td>-2.318300</td>\n",
       "      <td>-1.730241</td>\n",
       "    </tr>\n",
       "    <tr>\n",
       "      <th>2020-01-09</th>\n",
       "      <td>-1.711546</td>\n",
       "      <td>-1.415754</td>\n",
       "      <td>3.533635</td>\n",
       "      <td>-1.961631</td>\n",
       "      <td>-1.897680</td>\n",
       "    </tr>\n",
       "    <tr>\n",
       "      <th>...</th>\n",
       "      <td>...</td>\n",
       "      <td>...</td>\n",
       "      <td>...</td>\n",
       "      <td>...</td>\n",
       "      <td>...</td>\n",
       "    </tr>\n",
       "    <tr>\n",
       "      <th>2024-02-16</th>\n",
       "      <td>5.627443</td>\n",
       "      <td>-20.465397</td>\n",
       "      <td>81.039433</td>\n",
       "      <td>44.083655</td>\n",
       "      <td>8.236195</td>\n",
       "    </tr>\n",
       "    <tr>\n",
       "      <th>2024-02-20</th>\n",
       "      <td>5.224631</td>\n",
       "      <td>-19.638875</td>\n",
       "      <td>81.077092</td>\n",
       "      <td>44.647014</td>\n",
       "      <td>7.944286</td>\n",
       "    </tr>\n",
       "    <tr>\n",
       "      <th>2024-02-21</th>\n",
       "      <td>4.419033</td>\n",
       "      <td>-19.769374</td>\n",
       "      <td>82.843027</td>\n",
       "      <td>45.588631</td>\n",
       "      <td>9.800001</td>\n",
       "    </tr>\n",
       "    <tr>\n",
       "      <th>2024-02-22</th>\n",
       "      <td>4.140168</td>\n",
       "      <td>-18.942852</td>\n",
       "      <td>83.879055</td>\n",
       "      <td>47.335061</td>\n",
       "      <td>11.280402</td>\n",
       "    </tr>\n",
       "    <tr>\n",
       "      <th>2024-02-23</th>\n",
       "      <td>5.100697</td>\n",
       "      <td>-18.899353</td>\n",
       "      <td>84.152177</td>\n",
       "      <td>48.075477</td>\n",
       "      <td>12.302091</td>\n",
       "    </tr>\n",
       "  </tbody>\n",
       "</table>\n",
       "<p>1042 rows × 5 columns</p>\n",
       "</div>"
      ],
      "text/plain": [
       "Ticker           BAC          C         GS        JPM        WFC\n",
       "Date                                                            \n",
       "2020-01-03 -2.076268  -1.883572  -1.169339  -1.319666  -0.613956\n",
       "2020-01-06 -2.216611  -2.191331  -0.157901  -1.398106  -1.209291\n",
       "2020-01-07 -2.861935  -3.040742   0.499336  -3.074404  -2.027909\n",
       "2020-01-08 -1.879909  -2.302115   1.468107  -2.318300  -1.730241\n",
       "2020-01-09 -1.711546  -1.415754   3.533635  -1.961631  -1.897680\n",
       "...              ...        ...        ...        ...        ...\n",
       "2024-02-16  5.627443 -20.465397  81.039433  44.083655   8.236195\n",
       "2024-02-20  5.224631 -19.638875  81.077092  44.647014   7.944286\n",
       "2024-02-21  4.419033 -19.769374  82.843027  45.588631   9.800001\n",
       "2024-02-22  4.140168 -18.942852  83.879055  47.335061  11.280402\n",
       "2024-02-23  5.100697 -18.899353  84.152177  48.075477  12.302091\n",
       "\n",
       "[1042 rows x 5 columns]"
      ]
     },
     "execution_count": 7,
     "metadata": {},
     "output_type": "execute_result"
    }
   ],
   "source": [
    "# Cumulative return\n",
    "\n",
    "cumul_return_df = (((return_df + 1).cumprod() - 1) * 100)\n",
    "\n",
    "cumul_return_df"
   ]
  },
  {
   "cell_type": "markdown",
   "id": "77779a9a-264a-4853-9ab6-020a98eb3162",
   "metadata": {},
   "source": [
    "#### GS had the most cumulative return between January 2020 and February 2024 at around 84% total.\n",
    "#### C took an 18% loss between January 2020 and February 2024."
   ]
  },
  {
   "cell_type": "markdown",
   "id": "edd95048-c253-4b97-91a8-7bcd0d4726c2",
   "metadata": {},
   "source": [
    "#### Let's calculate and visualize monthly cumulative returns. Here, we simply take the last cumulative return value of each month. The dashed y=0 line shows the boundary between positive return and negative return (or loss)."
   ]
  },
  {
   "cell_type": "code",
   "execution_count": 8,
   "id": "d165a11d-56d6-4444-938b-a96cc7b90c53",
   "metadata": {},
   "outputs": [
    {
     "data": {
      "text/plain": [
       "<matplotlib.lines.Line2D at 0x11f0bebd0>"
      ]
     },
     "execution_count": 8,
     "metadata": {},
     "output_type": "execute_result"
    },
    {
     "data": {
      "image/png": "[encoded data removed]",
      "text/plain": [
       "<Figure size 640x480 with 1 Axes>"
      ]
     },
     "metadata": {},
     "output_type": "display_data"
    }
   ],
   "source": [
    "cumul_return_df.resample('M').agg('last').plot().axhline(y=0, color='brown', linestyle='--')"
   ]
  },
  {
   "cell_type": "markdown",
   "id": "234a1bf8-5953-4323-b8a0-ba5767fbd2cd",
   "metadata": {},
   "source": [
    "#### We see a sharp decline in performance of all stocks during the start of 2020. This can be tied to the COVID-19 pandemic which began impacting major institutions around this time.\n",
    "#### WFC is the only institution to have suffered in performance for a while longer after the start of the pandemic; there was a longer recovery time.\n",
    "#### C is almost completely submerged in negative space; C not only has a negative cumulative return between 2020 and 2024, but it has taken a loss at the end of every month within this time frame. The case is about the same for WFC."
   ]
  },
  {
   "cell_type": "markdown",
   "id": "59c88f82-258f-49de-81a8-253c7c1d83f5",
   "metadata": {},
   "source": [
    "#### Let's look at the directional relationship between the variables using covariance. We will also be using this to calculate portfolio risk."
   ]
  },
  {
   "cell_type": "code",
   "execution_count": 9,
   "id": "304f481a-9649-4d6c-9d95-dd6ba0e9f133",
   "metadata": {},
   "outputs": [
    {
     "data": {
      "text/html": [
       "<div>\n",
       "<style scoped>\n",
       "    .dataframe tbody tr th:only-of-type {\n",
       "        vertical-align: middle;\n",
       "    }\n",
       "\n",
       "    .dataframe tbody tr th {\n",
       "        vertical-align: top;\n",
       "    }\n",
       "\n",
       "    .dataframe thead th {\n",
       "        text-align: right;\n",
       "    }\n",
       "</style>\n",
       "<table border=\"1\" class=\"dataframe\">\n",
       "  <thead>\n",
       "    <tr style=\"text-align: right;\">\n",
       "      <th>Ticker</th>\n",
       "      <th>BAC</th>\n",
       "      <th>C</th>\n",
       "      <th>GS</th>\n",
       "      <th>JPM</th>\n",
       "      <th>WFC</th>\n",
       "    </tr>\n",
       "    <tr>\n",
       "      <th>Ticker</th>\n",
       "      <th></th>\n",
       "      <th></th>\n",
       "      <th></th>\n",
       "      <th></th>\n",
       "      <th></th>\n",
       "    </tr>\n",
       "  </thead>\n",
       "  <tbody>\n",
       "    <tr>\n",
       "      <th>BAC</th>\n",
       "      <td>0.000568</td>\n",
       "      <td>0.000547</td>\n",
       "      <td>0.000431</td>\n",
       "      <td>0.000463</td>\n",
       "      <td>0.000535</td>\n",
       "    </tr>\n",
       "    <tr>\n",
       "      <th>C</th>\n",
       "      <td>0.000547</td>\n",
       "      <td>0.000676</td>\n",
       "      <td>0.000466</td>\n",
       "      <td>0.000480</td>\n",
       "      <td>0.000550</td>\n",
       "    </tr>\n",
       "    <tr>\n",
       "      <th>GS</th>\n",
       "      <td>0.000431</td>\n",
       "      <td>0.000466</td>\n",
       "      <td>0.000466</td>\n",
       "      <td>0.000384</td>\n",
       "      <td>0.000435</td>\n",
       "    </tr>\n",
       "    <tr>\n",
       "      <th>JPM</th>\n",
       "      <td>0.000463</td>\n",
       "      <td>0.000480</td>\n",
       "      <td>0.000384</td>\n",
       "      <td>0.000456</td>\n",
       "      <td>0.000458</td>\n",
       "    </tr>\n",
       "    <tr>\n",
       "      <th>WFC</th>\n",
       "      <td>0.000535</td>\n",
       "      <td>0.000550</td>\n",
       "      <td>0.000435</td>\n",
       "      <td>0.000458</td>\n",
       "      <td>0.000664</td>\n",
       "    </tr>\n",
       "  </tbody>\n",
       "</table>\n",
       "</div>"
      ],
      "text/plain": [
       "Ticker       BAC         C        GS       JPM       WFC\n",
       "Ticker                                                  \n",
       "BAC     0.000568  0.000547  0.000431  0.000463  0.000535\n",
       "C       0.000547  0.000676  0.000466  0.000480  0.000550\n",
       "GS      0.000431  0.000466  0.000466  0.000384  0.000435\n",
       "JPM     0.000463  0.000480  0.000384  0.000456  0.000458\n",
       "WFC     0.000535  0.000550  0.000435  0.000458  0.000664"
      ]
     },
     "execution_count": 9,
     "metadata": {},
     "output_type": "execute_result"
    }
   ],
   "source": [
    "return_df.cov()"
   ]
  },
  {
   "cell_type": "markdown",
   "id": "232ef302-2c5b-42d1-83b2-688d4fc11e77",
   "metadata": {},
   "source": [
    "#### This tells us that there is positive covariance between institutions; they all tend to move in the same direction (up or down) together, but at different strengths."
   ]
  },
  {
   "cell_type": "markdown",
   "id": "7f48caac-14f5-427c-93ba-3f48ce5e2021",
   "metadata": {},
   "source": [
    "## 2) Building the Optimal Portfolio"
   ]
  },
  {
   "cell_type": "markdown",
   "id": "8015339c-52a4-4c6a-9489-7eb624203b63",
   "metadata": {},
   "source": [
    "#### To build the optimal portfolio containing these stocks, we will first create an equally-weighted portfolio and calculate its Sharpe Ratio to determine how it will perform. Then, we will use the Efficient Frontier method by generating a high number of arrays containing randomly-generated, unequal weights, find their associated expected returns, risk levels and Sharpe Ratios, and finally find the maximum Sharpe Ratio to locate the optimal portfolio."
   ]
  },
  {
   "cell_type": "markdown",
   "id": "2d916158-3ed6-46a5-8fa6-a8ca996e0dab",
   "metadata": {},
   "source": [
    "#### Create an array of equal weights."
   ]
  },
  {
   "cell_type": "code",
   "execution_count": 10,
   "id": "f855039a-d8fa-462c-9165-f9f155abb8a2",
   "metadata": {},
   "outputs": [
    {
     "data": {
      "text/plain": [
       "array([0.2, 0.2, 0.2, 0.2, 0.2])"
      ]
     },
     "execution_count": 10,
     "metadata": {},
     "output_type": "execute_result"
    }
   ],
   "source": [
    "weights = np.ones(len(return_df.columns))/len(return_df.columns)\n",
    "\n",
    "weights"
   ]
  },
  {
   "cell_type": "markdown",
   "id": "5c624684-af06-4c39-aaaf-2f9d82204dfe",
   "metadata": {},
   "source": [
    "#### The sum of weights should always equal 1."
   ]
  },
  {
   "cell_type": "code",
   "execution_count": 11,
   "id": "20b03b4f-dc1d-4a02-a78d-c2845c9e3e73",
   "metadata": {},
   "outputs": [
    {
     "data": {
      "text/plain": [
       "1.0"
      ]
     },
     "execution_count": 11,
     "metadata": {},
     "output_type": "execute_result"
    }
   ],
   "source": [
    "weights.sum()"
   ]
  },
  {
   "cell_type": "markdown",
   "id": "20fcbe19-f167-47e8-aac2-4aa5b2c6df45",
   "metadata": {},
   "source": [
    "#### Next, create a function that uses the weights vector to calculate expected return, risk and the Sharpe Ratio."
   ]
  },
  {
   "cell_type": "code",
   "execution_count": 12,
   "id": "006a3c87-6089-49e1-b0da-815e5dd43bb3",
   "metadata": {},
   "outputs": [],
   "source": [
    "\n",
    "equal_weight_exp_return = []\n",
    "equal_weight_risk = []\n",
    "\n",
    "def equal_weight_portfolio():\n",
    "    equal_weight_exp_return = 'Expected Return: ', np.dot(return_df.mean(), weights)\n",
    "    equal_weight_risk = 'Risk: ', (np.dot(np.dot(weights, return_df.cov()), weights))**(1/2)\n",
    "    sharpe_ratio = 'Sharpe Ratio: ', (np.dot(return_df.mean(), weights)) / (np.dot(np.dot(weights, return_df.cov()), weights))**(1/2)\n",
    "    return equal_weight_exp_return, equal_weight_risk, sharpe_ratio"
   ]
  },
  {
   "cell_type": "code",
   "execution_count": 13,
   "id": "2a05f8a6-40ab-48b5-a275-52ab2c57f911",
   "metadata": {},
   "outputs": [
    {
     "data": {
      "text/plain": [
       "(('Expected Return: ', 0.0004668248254952448),\n",
       " ('Risk: ', 0.02220480120401665),\n",
       " ('Sharpe Ratio: ', 0.0210235985094431))"
      ]
     },
     "execution_count": 13,
     "metadata": {},
     "output_type": "execute_result"
    }
   ],
   "source": [
    "equal_weight_portfolio()"
   ]
  },
  {
   "cell_type": "markdown",
   "id": "f941ad48-0d06-407a-a33c-e7d29205e558",
   "metadata": {},
   "source": [
    "#### This is our equally-weighted portfolio. This suggests that, if we buy the same number of stocks from each institution, we can expect around .05% return on our investment, at a 2.2% level of risk.\n",
    "\n",
    "#### Overall, this seems like a pretty low return for this level of risk.\n",
    "\n",
    "#### As a guide- Sharpe Ratios that equal 1 or higher are ideal. A Sharpe Ratio of .021 is pretty low. We can do better using the Efficient Frontier method."
   ]
  },
  {
   "cell_type": "markdown",
   "id": "71baf947-5fa2-4a52-94db-b3787d050e90",
   "metadata": {},
   "source": [
    "#### Create a function to generate weights."
   ]
  },
  {
   "cell_type": "code",
   "execution_count": 14,
   "id": "2b8c5354-2fed-4943-8629-19e89cf72371",
   "metadata": {},
   "outputs": [],
   "source": [
    "rand_weights = []\n",
    "\n",
    "def get_weights():\n",
    "    rand_weights = np.random.random(len(df.columns)) \n",
    "    rand_weights /= rand_weights.sum()  # This normalizes the array; it makes sum of all weights equal to 1. \n",
    "    return rand_weights"
   ]
  },
  {
   "cell_type": "markdown",
   "id": "b248b62a-4289-4562-b379-47e51299370a",
   "metadata": {},
   "source": [
    "#### Call the function to test it. The results are our weights assigned to each institution from left to right."
   ]
  },
  {
   "cell_type": "code",
   "execution_count": 15,
   "id": "3e7604aa-ca3c-4161-9aab-5df12070c2fe",
   "metadata": {},
   "outputs": [
    {
     "name": "stdout",
     "output_type": "stream",
     "text": [
      "Index(['BAC', 'C', 'GS', 'JPM', 'WFC'], dtype='object', name='Ticker')\n"
     ]
    },
    {
     "data": {
      "text/plain": [
       "array([0.20382746, 0.23865041, 0.14459568, 0.10720378, 0.30572266])"
      ]
     },
     "execution_count": 15,
     "metadata": {},
     "output_type": "execute_result"
    }
   ],
   "source": [
    "print(df.columns)\n",
    "get_weights()"
   ]
  },
  {
   "cell_type": "markdown",
   "id": "cca2e543-eca5-49b3-afb4-ff3538c6a831",
   "metadata": {},
   "source": [
    "#### The following loop will call this function 2,000 times and calculate expected return and risk associated with each set of weights called."
   ]
  },
  {
   "cell_type": "code",
   "execution_count": 16,
   "id": "7501ff18-6fa3-4a07-ae86-aa6597609d05",
   "metadata": {},
   "outputs": [],
   "source": [
    "random_weights = []\n",
    "pf_exp = []\n",
    "pf_std = []\n",
    "\n",
    "for i in range(2000):\n",
    "    W = get_weights()      \n",
    "    random_weights.append(W)\n",
    "    pf_exp.append(np.dot(return_df.mean(), W)*252)   # There are about 252 days in a year that stocks are traded.\n",
    "    pf_std.append(np.dot(np.dot(return_df.cov(), W), W)*252)"
   ]
  },
  {
   "cell_type": "markdown",
   "id": "7e0ea749-17c2-42e5-b8df-e228e6e1e0c0",
   "metadata": {},
   "source": [
    "#### Concatenate columns into a new data frame."
   ]
  },
  {
   "cell_type": "code",
   "execution_count": 17,
   "id": "441a5ee2-b3a9-4784-b9d3-6e33200098e3",
   "metadata": {},
   "outputs": [
    {
     "data": {
      "text/html": [
       "<div>\n",
       "<style scoped>\n",
       "    .dataframe tbody tr th:only-of-type {\n",
       "        vertical-align: middle;\n",
       "    }\n",
       "\n",
       "    .dataframe tbody tr th {\n",
       "        vertical-align: top;\n",
       "    }\n",
       "\n",
       "    .dataframe thead th {\n",
       "        text-align: right;\n",
       "    }\n",
       "</style>\n",
       "<table border=\"1\" class=\"dataframe\">\n",
       "  <thead>\n",
       "    <tr style=\"text-align: right;\">\n",
       "      <th></th>\n",
       "      <th>Return</th>\n",
       "      <th>Risk</th>\n",
       "      <th>Weights</th>\n",
       "    </tr>\n",
       "  </thead>\n",
       "  <tbody>\n",
       "    <tr>\n",
       "      <th>0</th>\n",
       "      <td>0.116263</td>\n",
       "      <td>0.126356</td>\n",
       "      <td>[0.18718208524310928, 0.09245125246727498, 0.0...</td>\n",
       "    </tr>\n",
       "    <tr>\n",
       "      <th>1</th>\n",
       "      <td>0.129307</td>\n",
       "      <td>0.122517</td>\n",
       "      <td>[0.22579988156049433, 0.08014594444360139, 0.2...</td>\n",
       "    </tr>\n",
       "    <tr>\n",
       "      <th>2</th>\n",
       "      <td>0.145073</td>\n",
       "      <td>0.116757</td>\n",
       "      <td>[0.2200296329156841, 0.15262846424850007, 0.48...</td>\n",
       "    </tr>\n",
       "    <tr>\n",
       "      <th>3</th>\n",
       "      <td>0.103241</td>\n",
       "      <td>0.141658</td>\n",
       "      <td>[0.43880113685108435, 0.013555640488898277, 0....</td>\n",
       "    </tr>\n",
       "    <tr>\n",
       "      <th>4</th>\n",
       "      <td>0.105927</td>\n",
       "      <td>0.126409</td>\n",
       "      <td>[0.34772055371893557, 0.16892773465034283, 0.0...</td>\n",
       "    </tr>\n",
       "  </tbody>\n",
       "</table>\n",
       "</div>"
      ],
      "text/plain": [
       "     Return      Risk                                            Weights\n",
       "0  0.116263  0.126356  [0.18718208524310928, 0.09245125246727498, 0.0...\n",
       "1  0.129307  0.122517  [0.22579988156049433, 0.08014594444360139, 0.2...\n",
       "2  0.145073  0.116757  [0.2200296329156841, 0.15262846424850007, 0.48...\n",
       "3  0.103241  0.141658  [0.43880113685108435, 0.013555640488898277, 0....\n",
       "4  0.105927  0.126409  [0.34772055371893557, 0.16892773465034283, 0.0..."
      ]
     },
     "execution_count": 17,
     "metadata": {},
     "output_type": "execute_result"
    }
   ],
   "source": [
    "pf_df = pd.DataFrame({'Return':pf_exp, 'Risk':pf_std, 'Weights':random_weights})\n",
    "\n",
    "pf_df.head()"
   ]
  },
  {
   "cell_type": "markdown",
   "id": "d5cead72-7472-47bb-ad98-c985c572fb0b",
   "metadata": {},
   "source": [
    "#### Each row in our new data frame corresponds to a single portfolio."
   ]
  },
  {
   "cell_type": "markdown",
   "id": "b96a82e7-bd10-44cf-9dc1-5218ccc6583b",
   "metadata": {},
   "source": [
    "#### Create a scatter plot to view each portfolio with expected return on the Y-axis and risk on the X-axis."
   ]
  },
  {
   "cell_type": "code",
   "execution_count": 18,
   "id": "fa98815b-1bbe-4c6c-8f04-0f18e9fb8a35",
   "metadata": {},
   "outputs": [
    {
     "data": {
      "text/plain": [
       "<Axes: xlabel='Risk', ylabel='Return'>"
      ]
     },
     "execution_count": 18,
     "metadata": {},
     "output_type": "execute_result"
    },
    {
     "data": {
      "image/png": "[encoded data removed]",
      "text/plain": [
       "<Figure size 640x480 with 1 Axes>"
      ]
     },
     "metadata": {},
     "output_type": "display_data"
    }
   ],
   "source": [
    "pf_df.plot(x='Risk', y='Return', kind='scatter')"
   ]
  },
  {
   "cell_type": "markdown",
   "id": "848dd5f1-cc2a-4ac7-869c-1db42d35365a",
   "metadata": {},
   "source": [
    "#### Our optimal portfolio will have the lowest risk and highest expected return value pair (or a maximum Sharpe Ratio)"
   ]
  },
  {
   "cell_type": "markdown",
   "id": "71155d60-0495-4367-8a69-d55c597ae81d",
   "metadata": {},
   "source": [
    "#### Create a new column containing Sharpe Ratios."
   ]
  },
  {
   "cell_type": "code",
   "execution_count": 19,
   "id": "f4871ed7-50bf-4d69-a693-dfaeeba6f5d4",
   "metadata": {},
   "outputs": [
    {
     "data": {
      "text/html": [
       "<div>\n",
       "<style scoped>\n",
       "    .dataframe tbody tr th:only-of-type {\n",
       "        vertical-align: middle;\n",
       "    }\n",
       "\n",
       "    .dataframe tbody tr th {\n",
       "        vertical-align: top;\n",
       "    }\n",
       "\n",
       "    .dataframe thead th {\n",
       "        text-align: right;\n",
       "    }\n",
       "</style>\n",
       "<table border=\"1\" class=\"dataframe\">\n",
       "  <thead>\n",
       "    <tr style=\"text-align: right;\">\n",
       "      <th></th>\n",
       "      <th>Return</th>\n",
       "      <th>Risk</th>\n",
       "      <th>Weights</th>\n",
       "      <th>Sharpe Ratio</th>\n",
       "    </tr>\n",
       "  </thead>\n",
       "  <tbody>\n",
       "    <tr>\n",
       "      <th>0</th>\n",
       "      <td>0.116263</td>\n",
       "      <td>0.126356</td>\n",
       "      <td>[0.18718208524310928, 0.09245125246727498, 0.0...</td>\n",
       "      <td>0.920117</td>\n",
       "    </tr>\n",
       "    <tr>\n",
       "      <th>1</th>\n",
       "      <td>0.129307</td>\n",
       "      <td>0.122517</td>\n",
       "      <td>[0.22579988156049433, 0.08014594444360139, 0.2...</td>\n",
       "      <td>1.055418</td>\n",
       "    </tr>\n",
       "    <tr>\n",
       "      <th>2</th>\n",
       "      <td>0.145073</td>\n",
       "      <td>0.116757</td>\n",
       "      <td>[0.2200296329156841, 0.15262846424850007, 0.48...</td>\n",
       "      <td>1.242522</td>\n",
       "    </tr>\n",
       "  </tbody>\n",
       "</table>\n",
       "</div>"
      ],
      "text/plain": [
       "     Return      Risk                                            Weights  \\\n",
       "0  0.116263  0.126356  [0.18718208524310928, 0.09245125246727498, 0.0...   \n",
       "1  0.129307  0.122517  [0.22579988156049433, 0.08014594444360139, 0.2...   \n",
       "2  0.145073  0.116757  [0.2200296329156841, 0.15262846424850007, 0.48...   \n",
       "\n",
       "   Sharpe Ratio  \n",
       "0      0.920117  \n",
       "1      1.055418  \n",
       "2      1.242522  "
      ]
     },
     "execution_count": 19,
     "metadata": {},
     "output_type": "execute_result"
    }
   ],
   "source": [
    "pf_df['Sharpe Ratio'] = pf_df['Return'] / pf_df['Risk']\n",
    "\n",
    "pf_df.head(3)"
   ]
  },
  {
   "cell_type": "markdown",
   "id": "d47b2260-2f18-42fd-a203-1937746be606",
   "metadata": {},
   "source": [
    "#### To find the maximum Sharpe Ratio, find the index where we have the largest value."
   ]
  },
  {
   "cell_type": "code",
   "execution_count": 20,
   "id": "3ce02ab1-d9bd-4ec1-ab1b-e6d2a847cc05",
   "metadata": {},
   "outputs": [
    {
     "data": {
      "text/plain": [
       "Index([1182], dtype='int64')"
      ]
     },
     "execution_count": 20,
     "metadata": {},
     "output_type": "execute_result"
    }
   ],
   "source": [
    "pf_df['Sharpe Ratio'].nlargest(1).index"
   ]
  },
  {
   "cell_type": "markdown",
   "id": "6b2e0cc5-1593-4c76-9ff9-4861376c5760",
   "metadata": {},
   "source": [
    "#### Now, let's print the row located at this index."
   ]
  },
  {
   "cell_type": "code",
   "execution_count": 21,
   "id": "a9f4873d-ae46-4feb-acd0-b3a89ab75e92",
   "metadata": {},
   "outputs": [
    {
     "data": {
      "text/html": [
       "<div>\n",
       "<style scoped>\n",
       "    .dataframe tbody tr th:only-of-type {\n",
       "        vertical-align: middle;\n",
       "    }\n",
       "\n",
       "    .dataframe tbody tr th {\n",
       "        vertical-align: top;\n",
       "    }\n",
       "\n",
       "    .dataframe thead th {\n",
       "        text-align: right;\n",
       "    }\n",
       "</style>\n",
       "<table border=\"1\" class=\"dataframe\">\n",
       "  <thead>\n",
       "    <tr style=\"text-align: right;\">\n",
       "      <th></th>\n",
       "      <th>Return</th>\n",
       "      <th>Risk</th>\n",
       "      <th>Weights</th>\n",
       "      <th>Sharpe Ratio</th>\n",
       "    </tr>\n",
       "  </thead>\n",
       "  <tbody>\n",
       "    <tr>\n",
       "      <th>1182</th>\n",
       "      <td>0.170151</td>\n",
       "      <td>0.108398</td>\n",
       "      <td>[0.01410129556006248, 0.00023111519472235255, 0.4250694385173442, 0.46091957566141467, 0.09967857506645629]</td>\n",
       "      <td>1.569689</td>\n",
       "    </tr>\n",
       "  </tbody>\n",
       "</table>\n",
       "</div>"
      ],
      "text/plain": [
       "        Return      Risk  \\\n",
       "1182  0.170151  0.108398   \n",
       "\n",
       "                                                                                                          Weights  \\\n",
       "1182  [0.01410129556006248, 0.00023111519472235255, 0.4250694385173442, 0.46091957566141467, 0.09967857506645629]   \n",
       "\n",
       "      Sharpe Ratio  \n",
       "1182      1.569689  "
      ]
     },
     "execution_count": 21,
     "metadata": {},
     "output_type": "execute_result"
    }
   ],
   "source": [
    "max_sharpe = pf_df.loc[pf_df['Sharpe Ratio'].nlargest(1).index]\n",
    "\n",
    "pd.set_option('display.max_colwidth', None)   # Print full array of weights in Weights column\n",
    "\n",
    "max_sharpe"
   ]
  },
  {
   "cell_type": "code",
   "execution_count": 22,
   "id": "0bb8e21a-767c-4bea-89e6-cdf51de57d9a",
   "metadata": {},
   "outputs": [
    {
     "data": {
      "text/plain": [
       "Index(['BAC', 'C', 'GS', 'JPM', 'WFC'], dtype='object', name='Ticker')"
      ]
     },
     "execution_count": 22,
     "metadata": {},
     "output_type": "execute_result"
    }
   ],
   "source": [
    "df.columns"
   ]
  },
  {
   "cell_type": "markdown",
   "id": "787b01e3-4e40-48e6-8c58-88329ad2b33f",
   "metadata": {},
   "source": [
    "#### Finding this coordinate in our plot should confirm that we've identified the best portfolio possible given these weights. A Sharpe Ratio of above 1 is ideal."
   ]
  },
  {
   "cell_type": "markdown",
   "id": "e7cfbb60-8bf6-4575-a6a3-564a83e1a68b",
   "metadata": {},
   "source": [
    "#### Comparing this Sharpe Ratio with that of the equally-weighted portfolio..."
   ]
  },
  {
   "cell_type": "code",
   "execution_count": 23,
   "id": "7c5886ef-48ec-4119-a2b8-d1463006c97b",
   "metadata": {},
   "outputs": [
    {
     "data": {
      "text/plain": [
       "(('Expected Return: ', 0.0004668248254952448),\n",
       " ('Risk: ', 0.02220480120401665),\n",
       " ('Sharpe Ratio: ', 0.0210235985094431))"
      ]
     },
     "execution_count": 23,
     "metadata": {},
     "output_type": "execute_result"
    }
   ],
   "source": [
    "equal_weight_portfolio()"
   ]
  },
  {
   "cell_type": "markdown",
   "id": "d4f696a9-f683-4155-8f43-73b269c8bcc8",
   "metadata": {},
   "source": [
    "#### We can confirm that our optimal portfolio is the one derived using the Efficient Frontier method (1.6 > 0.02). This means that we should not invest in the same number of stocks from each institution. Rather, we should invest:"
   ]
  },
  {
   "cell_type": "code",
   "execution_count": 28,
   "id": "ef583710-de8c-4669-a38e-28dc34f5a0a5",
   "metadata": {},
   "outputs": [
    {
     "name": "stdout",
     "output_type": "stream",
     "text": [
      "1.41 % of our stocks in BAC\n",
      "0.02 % of our stocks in C\n",
      "42.51 % of our stocks in GS\n",
      "46.09 % of our stocks in JPM\n",
      "9.97 % of our stocks in WFC\n"
     ]
    }
   ],
   "source": [
    "for i in range(len(df.columns)):\n",
    "    print((max_sharpe['Weights'].iloc[0][i]*100).round(2), '% of our stocks in', df.columns[i])"
   ]
  }
 ],
 "metadata": {
  "kernelspec": {
   "display_name": "Python 3 (ipykernel)",
   "language": "python",
   "name": "python3"
  },
  "language_info": {
   "codemirror_mode": {
    "name": "ipython",
    "version": 3
   },
   "file_extension": ".py",
   "mimetype": "text/x-python",
   "name": "python",
   "nbconvert_exporter": "python",
   "pygments_lexer": "ipython3",
   "version": "3.11.3"
  }
 },
 "nbformat": 4,
 "nbformat_minor": 5
}
